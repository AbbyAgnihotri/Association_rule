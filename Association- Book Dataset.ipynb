{
 "cells": [
  {
   "cell_type": "markdown",
   "metadata": {},
   "source": [
    "## Association Rule - Book Dataset"
   ]
  },
  {
   "cell_type": "code",
   "execution_count": 1,
   "metadata": {},
   "outputs": [],
   "source": [
    "import pandas as pd\n",
    "from mlxtend.frequent_patterns import apriori,association_rules\n",
    "import matplotlib.pyplot as plt"
   ]
  },
  {
   "cell_type": "code",
   "execution_count": 2,
   "metadata": {},
   "outputs": [],
   "source": [
    "book = pd.read_csv(\"book.csv\")"
   ]
  },
  {
   "cell_type": "code",
   "execution_count": 3,
   "metadata": {},
   "outputs": [
    {
     "data": {
      "text/html": [
       "<div>\n",
       "<style scoped>\n",
       "    .dataframe tbody tr th:only-of-type {\n",
       "        vertical-align: middle;\n",
       "    }\n",
       "\n",
       "    .dataframe tbody tr th {\n",
       "        vertical-align: top;\n",
       "    }\n",
       "\n",
       "    .dataframe thead th {\n",
       "        text-align: right;\n",
       "    }\n",
       "</style>\n",
       "<table border=\"1\" class=\"dataframe\">\n",
       "  <thead>\n",
       "    <tr style=\"text-align: right;\">\n",
       "      <th></th>\n",
       "      <th>ChildBks</th>\n",
       "      <th>YouthBks</th>\n",
       "      <th>CookBks</th>\n",
       "      <th>DoItYBks</th>\n",
       "      <th>RefBks</th>\n",
       "      <th>ArtBks</th>\n",
       "      <th>GeogBks</th>\n",
       "      <th>ItalCook</th>\n",
       "      <th>ItalAtlas</th>\n",
       "      <th>ItalArt</th>\n",
       "      <th>Florence</th>\n",
       "    </tr>\n",
       "  </thead>\n",
       "  <tbody>\n",
       "    <tr>\n",
       "      <th>0</th>\n",
       "      <td>0</td>\n",
       "      <td>1</td>\n",
       "      <td>0</td>\n",
       "      <td>1</td>\n",
       "      <td>0</td>\n",
       "      <td>0</td>\n",
       "      <td>1</td>\n",
       "      <td>0</td>\n",
       "      <td>0</td>\n",
       "      <td>0</td>\n",
       "      <td>0</td>\n",
       "    </tr>\n",
       "    <tr>\n",
       "      <th>1</th>\n",
       "      <td>1</td>\n",
       "      <td>0</td>\n",
       "      <td>0</td>\n",
       "      <td>0</td>\n",
       "      <td>0</td>\n",
       "      <td>0</td>\n",
       "      <td>0</td>\n",
       "      <td>0</td>\n",
       "      <td>0</td>\n",
       "      <td>0</td>\n",
       "      <td>0</td>\n",
       "    </tr>\n",
       "    <tr>\n",
       "      <th>2</th>\n",
       "      <td>0</td>\n",
       "      <td>0</td>\n",
       "      <td>0</td>\n",
       "      <td>0</td>\n",
       "      <td>0</td>\n",
       "      <td>0</td>\n",
       "      <td>0</td>\n",
       "      <td>0</td>\n",
       "      <td>0</td>\n",
       "      <td>0</td>\n",
       "      <td>0</td>\n",
       "    </tr>\n",
       "    <tr>\n",
       "      <th>3</th>\n",
       "      <td>1</td>\n",
       "      <td>1</td>\n",
       "      <td>1</td>\n",
       "      <td>0</td>\n",
       "      <td>1</td>\n",
       "      <td>0</td>\n",
       "      <td>1</td>\n",
       "      <td>0</td>\n",
       "      <td>0</td>\n",
       "      <td>0</td>\n",
       "      <td>0</td>\n",
       "    </tr>\n",
       "    <tr>\n",
       "      <th>4</th>\n",
       "      <td>0</td>\n",
       "      <td>0</td>\n",
       "      <td>1</td>\n",
       "      <td>0</td>\n",
       "      <td>0</td>\n",
       "      <td>0</td>\n",
       "      <td>1</td>\n",
       "      <td>0</td>\n",
       "      <td>0</td>\n",
       "      <td>0</td>\n",
       "      <td>0</td>\n",
       "    </tr>\n",
       "  </tbody>\n",
       "</table>\n",
       "</div>"
      ],
      "text/plain": [
       "   ChildBks  YouthBks  CookBks  ...  ItalAtlas  ItalArt  Florence\n",
       "0         0         1        0  ...          0        0         0\n",
       "1         1         0        0  ...          0        0         0\n",
       "2         0         0        0  ...          0        0         0\n",
       "3         1         1        1  ...          0        0         0\n",
       "4         0         0        1  ...          0        0         0\n",
       "\n",
       "[5 rows x 11 columns]"
      ]
     },
     "execution_count": 3,
     "metadata": {},
     "output_type": "execute_result"
    }
   ],
   "source": [
    "book.head()"
   ]
  },
  {
   "cell_type": "markdown",
   "metadata": {},
   "source": [
    "#### Lets apply apriori algorithm "
   ]
  },
  {
   "cell_type": "code",
   "execution_count": 25,
   "metadata": {},
   "outputs": [],
   "source": [
    "freq_items= apriori(book,min_support=0.05,max_len=3,use_colnames=True)"
   ]
  },
  {
   "cell_type": "code",
   "execution_count": 26,
   "metadata": {},
   "outputs": [],
   "source": [
    "freq_items.sort_values('support',ascending=False,inplace=True)"
   ]
  },
  {
   "cell_type": "code",
   "execution_count": 28,
   "metadata": {},
   "outputs": [
    {
     "data": {
      "text/html": [
       "<div>\n",
       "<style scoped>\n",
       "    .dataframe tbody tr th:only-of-type {\n",
       "        vertical-align: middle;\n",
       "    }\n",
       "\n",
       "    .dataframe tbody tr th {\n",
       "        vertical-align: top;\n",
       "    }\n",
       "\n",
       "    .dataframe thead th {\n",
       "        text-align: right;\n",
       "    }\n",
       "</style>\n",
       "<table border=\"1\" class=\"dataframe\">\n",
       "  <thead>\n",
       "    <tr style=\"text-align: right;\">\n",
       "      <th></th>\n",
       "      <th>support</th>\n",
       "      <th>itemsets</th>\n",
       "    </tr>\n",
       "  </thead>\n",
       "  <tbody>\n",
       "    <tr>\n",
       "      <th>2</th>\n",
       "      <td>0.431</td>\n",
       "      <td>(CookBks)</td>\n",
       "    </tr>\n",
       "    <tr>\n",
       "      <th>0</th>\n",
       "      <td>0.423</td>\n",
       "      <td>(ChildBks)</td>\n",
       "    </tr>\n",
       "    <tr>\n",
       "      <th>3</th>\n",
       "      <td>0.282</td>\n",
       "      <td>(DoItYBks)</td>\n",
       "    </tr>\n",
       "    <tr>\n",
       "      <th>6</th>\n",
       "      <td>0.276</td>\n",
       "      <td>(GeogBks)</td>\n",
       "    </tr>\n",
       "    <tr>\n",
       "      <th>10</th>\n",
       "      <td>0.256</td>\n",
       "      <td>(ChildBks, CookBks)</td>\n",
       "    </tr>\n",
       "  </tbody>\n",
       "</table>\n",
       "</div>"
      ],
      "text/plain": [
       "    support             itemsets\n",
       "2     0.431            (CookBks)\n",
       "0     0.423           (ChildBks)\n",
       "3     0.282           (DoItYBks)\n",
       "6     0.276            (GeogBks)\n",
       "10    0.256  (ChildBks, CookBks)"
      ]
     },
     "execution_count": 28,
     "metadata": {},
     "output_type": "execute_result"
    }
   ],
   "source": [
    "freq_items.head()"
   ]
  },
  {
   "cell_type": "code",
   "execution_count": 29,
   "metadata": {},
   "outputs": [
    {
     "data": {
      "text/html": [
       "<div>\n",
       "<style scoped>\n",
       "    .dataframe tbody tr th:only-of-type {\n",
       "        vertical-align: middle;\n",
       "    }\n",
       "\n",
       "    .dataframe tbody tr th {\n",
       "        vertical-align: top;\n",
       "    }\n",
       "\n",
       "    .dataframe thead th {\n",
       "        text-align: right;\n",
       "    }\n",
       "</style>\n",
       "<table border=\"1\" class=\"dataframe\">\n",
       "  <thead>\n",
       "    <tr style=\"text-align: right;\">\n",
       "      <th></th>\n",
       "      <th>support</th>\n",
       "      <th>itemsets</th>\n",
       "    </tr>\n",
       "  </thead>\n",
       "  <tbody>\n",
       "    <tr>\n",
       "      <th>75</th>\n",
       "      <td>0.0565</td>\n",
       "      <td>(RefBks, GeogBks, ArtBks)</td>\n",
       "    </tr>\n",
       "    <tr>\n",
       "      <th>70</th>\n",
       "      <td>0.0565</td>\n",
       "      <td>(CookBks, ArtBks, ItalCook)</td>\n",
       "    </tr>\n",
       "    <tr>\n",
       "      <th>34</th>\n",
       "      <td>0.0565</td>\n",
       "      <td>(ItalCook, ArtBks)</td>\n",
       "    </tr>\n",
       "    <tr>\n",
       "      <th>72</th>\n",
       "      <td>0.0535</td>\n",
       "      <td>(DoItYBks, RefBks, ArtBks)</td>\n",
       "    </tr>\n",
       "    <tr>\n",
       "      <th>52</th>\n",
       "      <td>0.0525</td>\n",
       "      <td>(ChildBks, GeogBks, ItalCook)</td>\n",
       "    </tr>\n",
       "  </tbody>\n",
       "</table>\n",
       "</div>"
      ],
      "text/plain": [
       "    support                       itemsets\n",
       "75   0.0565      (RefBks, GeogBks, ArtBks)\n",
       "70   0.0565    (CookBks, ArtBks, ItalCook)\n",
       "34   0.0565             (ItalCook, ArtBks)\n",
       "72   0.0535     (DoItYBks, RefBks, ArtBks)\n",
       "52   0.0525  (ChildBks, GeogBks, ItalCook)"
      ]
     },
     "execution_count": 29,
     "metadata": {},
     "output_type": "execute_result"
    }
   ],
   "source": [
    "freq_items.tail()"
   ]
  },
  {
   "cell_type": "code",
   "execution_count": 30,
   "metadata": {},
   "outputs": [
    {
     "data": {
      "image/png": "[encoded data removed]",
      "text/plain": [
       "<Figure size 576x432 with 1 Axes>"
      ]
     },
     "metadata": {
      "needs_background": "light"
     },
     "output_type": "display_data"
    }
   ],
   "source": [
    "plt.figure(figsize=(8,6))\n",
    "plt.barh(y = list(range(1,21)),width = freq_items.support[1:21],color='rgmyk');\n",
    "plt.yticks(list(range(1,21)),freq_items.itemsets[1:21],rotation=0)\n",
    "plt.ylabel('item-sets');\n",
    "plt.xlabel('support');"
   ]
  },
  {
   "cell_type": "markdown",
   "metadata": {},
   "source": [
    "### Lets create rules with metric as lift "
   ]
  },
  {
   "cell_type": "code",
   "execution_count": 31,
   "metadata": {},
   "outputs": [],
   "source": [
    "rules = association_rules(freq_items,metric='lift',min_threshold=1)"
   ]
  },
  {
   "cell_type": "code",
   "execution_count": 32,
   "metadata": {},
   "outputs": [
    {
     "data": {
      "text/html": [
       "<div>\n",
       "<style scoped>\n",
       "    .dataframe tbody tr th:only-of-type {\n",
       "        vertical-align: middle;\n",
       "    }\n",
       "\n",
       "    .dataframe tbody tr th {\n",
       "        vertical-align: top;\n",
       "    }\n",
       "\n",
       "    .dataframe thead th {\n",
       "        text-align: right;\n",
       "    }\n",
       "</style>\n",
       "<table border=\"1\" class=\"dataframe\">\n",
       "  <thead>\n",
       "    <tr style=\"text-align: right;\">\n",
       "      <th></th>\n",
       "      <th>antecedents</th>\n",
       "      <th>consequents</th>\n",
       "      <th>antecedent support</th>\n",
       "      <th>consequent support</th>\n",
       "      <th>support</th>\n",
       "      <th>confidence</th>\n",
       "      <th>lift</th>\n",
       "      <th>leverage</th>\n",
       "      <th>conviction</th>\n",
       "    </tr>\n",
       "  </thead>\n",
       "  <tbody>\n",
       "    <tr>\n",
       "      <th>0</th>\n",
       "      <td>(ChildBks)</td>\n",
       "      <td>(CookBks)</td>\n",
       "      <td>0.423</td>\n",
       "      <td>0.431</td>\n",
       "      <td>0.2560</td>\n",
       "      <td>0.605201</td>\n",
       "      <td>1.404179</td>\n",
       "      <td>0.073687</td>\n",
       "      <td>1.441240</td>\n",
       "    </tr>\n",
       "    <tr>\n",
       "      <th>1</th>\n",
       "      <td>(CookBks)</td>\n",
       "      <td>(ChildBks)</td>\n",
       "      <td>0.431</td>\n",
       "      <td>0.423</td>\n",
       "      <td>0.2560</td>\n",
       "      <td>0.593968</td>\n",
       "      <td>1.404179</td>\n",
       "      <td>0.073687</td>\n",
       "      <td>1.421069</td>\n",
       "    </tr>\n",
       "    <tr>\n",
       "      <th>2</th>\n",
       "      <td>(ChildBks)</td>\n",
       "      <td>(GeogBks)</td>\n",
       "      <td>0.423</td>\n",
       "      <td>0.276</td>\n",
       "      <td>0.1950</td>\n",
       "      <td>0.460993</td>\n",
       "      <td>1.670264</td>\n",
       "      <td>0.078252</td>\n",
       "      <td>1.343211</td>\n",
       "    </tr>\n",
       "    <tr>\n",
       "      <th>3</th>\n",
       "      <td>(GeogBks)</td>\n",
       "      <td>(ChildBks)</td>\n",
       "      <td>0.276</td>\n",
       "      <td>0.423</td>\n",
       "      <td>0.1950</td>\n",
       "      <td>0.706522</td>\n",
       "      <td>1.670264</td>\n",
       "      <td>0.078252</td>\n",
       "      <td>1.966074</td>\n",
       "    </tr>\n",
       "    <tr>\n",
       "      <th>4</th>\n",
       "      <td>(GeogBks)</td>\n",
       "      <td>(CookBks)</td>\n",
       "      <td>0.276</td>\n",
       "      <td>0.431</td>\n",
       "      <td>0.1925</td>\n",
       "      <td>0.697464</td>\n",
       "      <td>1.618245</td>\n",
       "      <td>0.073544</td>\n",
       "      <td>1.880766</td>\n",
       "    </tr>\n",
       "  </tbody>\n",
       "</table>\n",
       "</div>"
      ],
      "text/plain": [
       "  antecedents consequents  antecedent support  ...      lift  leverage  conviction\n",
       "0  (ChildBks)   (CookBks)               0.423  ...  1.404179  0.073687    1.441240\n",
       "1   (CookBks)  (ChildBks)               0.431  ...  1.404179  0.073687    1.421069\n",
       "2  (ChildBks)   (GeogBks)               0.423  ...  1.670264  0.078252    1.343211\n",
       "3   (GeogBks)  (ChildBks)               0.276  ...  1.670264  0.078252    1.966074\n",
       "4   (GeogBks)   (CookBks)               0.276  ...  1.618245  0.073544    1.880766\n",
       "\n",
       "[5 rows x 9 columns]"
      ]
     },
     "execution_count": 32,
     "metadata": {},
     "output_type": "execute_result"
    }
   ],
   "source": [
    "rules.head()"
   ]
  },
  {
   "cell_type": "code",
   "execution_count": 33,
   "metadata": {},
   "outputs": [
    {
     "data": {
      "text/html": [
       "<div>\n",
       "<style scoped>\n",
       "    .dataframe tbody tr th:only-of-type {\n",
       "        vertical-align: middle;\n",
       "    }\n",
       "\n",
       "    .dataframe tbody tr th {\n",
       "        vertical-align: top;\n",
       "    }\n",
       "\n",
       "    .dataframe thead th {\n",
       "        text-align: right;\n",
       "    }\n",
       "</style>\n",
       "<table border=\"1\" class=\"dataframe\">\n",
       "  <thead>\n",
       "    <tr style=\"text-align: right;\">\n",
       "      <th></th>\n",
       "      <th>antecedents</th>\n",
       "      <th>consequents</th>\n",
       "      <th>antecedent support</th>\n",
       "      <th>consequent support</th>\n",
       "      <th>support</th>\n",
       "      <th>confidence</th>\n",
       "      <th>lift</th>\n",
       "      <th>leverage</th>\n",
       "      <th>conviction</th>\n",
       "    </tr>\n",
       "  </thead>\n",
       "  <tbody>\n",
       "    <tr>\n",
       "      <th>235</th>\n",
       "      <td>(CookBks, YouthBks)</td>\n",
       "      <td>(ItalCook)</td>\n",
       "      <td>0.1620</td>\n",
       "      <td>0.1135</td>\n",
       "      <td>0.0590</td>\n",
       "      <td>0.364198</td>\n",
       "      <td>3.208789</td>\n",
       "      <td>0.040613</td>\n",
       "      <td>1.394301</td>\n",
       "    </tr>\n",
       "    <tr>\n",
       "      <th>238</th>\n",
       "      <td>(ItalCook)</td>\n",
       "      <td>(CookBks, YouthBks)</td>\n",
       "      <td>0.1135</td>\n",
       "      <td>0.1620</td>\n",
       "      <td>0.0590</td>\n",
       "      <td>0.519824</td>\n",
       "      <td>3.208789</td>\n",
       "      <td>0.040613</td>\n",
       "      <td>1.745193</td>\n",
       "    </tr>\n",
       "    <tr>\n",
       "      <th>279</th>\n",
       "      <td>(ItalCook)</td>\n",
       "      <td>(CookBks, ArtBks)</td>\n",
       "      <td>0.1135</td>\n",
       "      <td>0.1670</td>\n",
       "      <td>0.0565</td>\n",
       "      <td>0.497797</td>\n",
       "      <td>2.980822</td>\n",
       "      <td>0.037545</td>\n",
       "      <td>1.658693</td>\n",
       "    </tr>\n",
       "    <tr>\n",
       "      <th>274</th>\n",
       "      <td>(CookBks, ArtBks)</td>\n",
       "      <td>(ItalCook)</td>\n",
       "      <td>0.1670</td>\n",
       "      <td>0.1135</td>\n",
       "      <td>0.0565</td>\n",
       "      <td>0.338323</td>\n",
       "      <td>2.980822</td>\n",
       "      <td>0.037545</td>\n",
       "      <td>1.339778</td>\n",
       "    </tr>\n",
       "    <tr>\n",
       "      <th>220</th>\n",
       "      <td>(GeogBks, CookBks)</td>\n",
       "      <td>(ItalCook)</td>\n",
       "      <td>0.1925</td>\n",
       "      <td>0.1135</td>\n",
       "      <td>0.0640</td>\n",
       "      <td>0.332468</td>\n",
       "      <td>2.929229</td>\n",
       "      <td>0.042151</td>\n",
       "      <td>1.328025</td>\n",
       "    </tr>\n",
       "  </tbody>\n",
       "</table>\n",
       "</div>"
      ],
      "text/plain": [
       "             antecedents          consequents  ...  leverage  conviction\n",
       "235  (CookBks, YouthBks)           (ItalCook)  ...  0.040613    1.394301\n",
       "238           (ItalCook)  (CookBks, YouthBks)  ...  0.040613    1.745193\n",
       "279           (ItalCook)    (CookBks, ArtBks)  ...  0.037545    1.658693\n",
       "274    (CookBks, ArtBks)           (ItalCook)  ...  0.037545    1.339778\n",
       "220   (GeogBks, CookBks)           (ItalCook)  ...  0.042151    1.328025\n",
       "\n",
       "[5 rows x 9 columns]"
      ]
     },
     "execution_count": 33,
     "metadata": {},
     "output_type": "execute_result"
    }
   ],
   "source": [
    "rules.sort_values('lift',ascending=False,inplace=True)\n",
    "rules.head()"
   ]
  },
  {
   "cell_type": "markdown",
   "metadata": {},
   "source": [
    "#### from above df we can see that there are lot of redundancy among rules, so lets remove them"
   ]
  },
  {
   "cell_type": "code",
   "execution_count": 34,
   "metadata": {},
   "outputs": [],
   "source": [
    "def to_list(i):\n",
    "    return (sorted(list(i)))"
   ]
  },
  {
   "cell_type": "code",
   "execution_count": 35,
   "metadata": {},
   "outputs": [],
   "source": [
    "ma_X = rules.antecedents.apply(to_list)+rules.consequents.apply(to_list)"
   ]
  },
  {
   "cell_type": "code",
   "execution_count": 36,
   "metadata": {},
   "outputs": [],
   "source": [
    "ma_X = ma_X.apply(sorted)"
   ]
  },
  {
   "cell_type": "code",
   "execution_count": 37,
   "metadata": {},
   "outputs": [],
   "source": [
    "rules_sets = list(ma_X)"
   ]
  },
  {
   "cell_type": "code",
   "execution_count": 38,
   "metadata": {},
   "outputs": [],
   "source": [
    "unique_rules_sets = [list(m) for m in set(tuple(i) for i in rules_sets)]"
   ]
  },
  {
   "cell_type": "code",
   "execution_count": 39,
   "metadata": {},
   "outputs": [],
   "source": [
    "index_rules = []\n",
    "for i in unique_rules_sets:\n",
    "    index_rules.append(rules_sets.index(i))"
   ]
  },
  {
   "cell_type": "code",
   "execution_count": 40,
   "metadata": {},
   "outputs": [],
   "source": [
    "rules_no_redudancy  = rules.iloc[index_rules,:]"
   ]
  },
  {
   "cell_type": "code",
   "execution_count": 41,
   "metadata": {},
   "outputs": [
    {
     "data": {
      "text/html": [
       "<div>\n",
       "<style scoped>\n",
       "    .dataframe tbody tr th:only-of-type {\n",
       "        vertical-align: middle;\n",
       "    }\n",
       "\n",
       "    .dataframe tbody tr th {\n",
       "        vertical-align: top;\n",
       "    }\n",
       "\n",
       "    .dataframe thead th {\n",
       "        text-align: right;\n",
       "    }\n",
       "</style>\n",
       "<table border=\"1\" class=\"dataframe\">\n",
       "  <thead>\n",
       "    <tr style=\"text-align: right;\">\n",
       "      <th></th>\n",
       "      <th>antecedents</th>\n",
       "      <th>consequents</th>\n",
       "      <th>antecedent support</th>\n",
       "      <th>consequent support</th>\n",
       "      <th>support</th>\n",
       "      <th>confidence</th>\n",
       "      <th>lift</th>\n",
       "      <th>leverage</th>\n",
       "      <th>conviction</th>\n",
       "    </tr>\n",
       "  </thead>\n",
       "  <tbody>\n",
       "    <tr>\n",
       "      <th>235</th>\n",
       "      <td>(CookBks, YouthBks)</td>\n",
       "      <td>(ItalCook)</td>\n",
       "      <td>0.1620</td>\n",
       "      <td>0.1135</td>\n",
       "      <td>0.0590</td>\n",
       "      <td>0.364198</td>\n",
       "      <td>3.208789</td>\n",
       "      <td>0.040613</td>\n",
       "      <td>1.394301</td>\n",
       "    </tr>\n",
       "    <tr>\n",
       "      <th>279</th>\n",
       "      <td>(ItalCook)</td>\n",
       "      <td>(CookBks, ArtBks)</td>\n",
       "      <td>0.1135</td>\n",
       "      <td>0.1670</td>\n",
       "      <td>0.0565</td>\n",
       "      <td>0.497797</td>\n",
       "      <td>2.980822</td>\n",
       "      <td>0.037545</td>\n",
       "      <td>1.658693</td>\n",
       "    </tr>\n",
       "    <tr>\n",
       "      <th>220</th>\n",
       "      <td>(GeogBks, CookBks)</td>\n",
       "      <td>(ItalCook)</td>\n",
       "      <td>0.1925</td>\n",
       "      <td>0.1135</td>\n",
       "      <td>0.0640</td>\n",
       "      <td>0.332468</td>\n",
       "      <td>2.929229</td>\n",
       "      <td>0.042151</td>\n",
       "      <td>1.328025</td>\n",
       "    </tr>\n",
       "    <tr>\n",
       "      <th>159</th>\n",
       "      <td>(ItalCook)</td>\n",
       "      <td>(ChildBks, CookBks)</td>\n",
       "      <td>0.1135</td>\n",
       "      <td>0.2560</td>\n",
       "      <td>0.0850</td>\n",
       "      <td>0.748899</td>\n",
       "      <td>2.925385</td>\n",
       "      <td>0.055944</td>\n",
       "      <td>2.962947</td>\n",
       "    </tr>\n",
       "    <tr>\n",
       "      <th>242</th>\n",
       "      <td>(DoItYBks, CookBks)</td>\n",
       "      <td>(ItalCook)</td>\n",
       "      <td>0.1875</td>\n",
       "      <td>0.1135</td>\n",
       "      <td>0.0585</td>\n",
       "      <td>0.312000</td>\n",
       "      <td>2.748899</td>\n",
       "      <td>0.037219</td>\n",
       "      <td>1.288517</td>\n",
       "    </tr>\n",
       "    <tr>\n",
       "      <th>293</th>\n",
       "      <td>(ItalCook)</td>\n",
       "      <td>(ChildBks, GeogBks)</td>\n",
       "      <td>0.1135</td>\n",
       "      <td>0.1950</td>\n",
       "      <td>0.0525</td>\n",
       "      <td>0.462555</td>\n",
       "      <td>2.372077</td>\n",
       "      <td>0.030367</td>\n",
       "      <td>1.497828</td>\n",
       "    </tr>\n",
       "    <tr>\n",
       "      <th>170</th>\n",
       "      <td>(RefBks)</td>\n",
       "      <td>(ChildBks, YouthBks)</td>\n",
       "      <td>0.2145</td>\n",
       "      <td>0.1650</td>\n",
       "      <td>0.0830</td>\n",
       "      <td>0.386946</td>\n",
       "      <td>2.345130</td>\n",
       "      <td>0.047608</td>\n",
       "      <td>1.362034</td>\n",
       "    </tr>\n",
       "    <tr>\n",
       "      <th>260</th>\n",
       "      <td>(RefBks)</td>\n",
       "      <td>(DoItYBks, YouthBks)</td>\n",
       "      <td>0.2145</td>\n",
       "      <td>0.1155</td>\n",
       "      <td>0.0580</td>\n",
       "      <td>0.270396</td>\n",
       "      <td>2.341093</td>\n",
       "      <td>0.033225</td>\n",
       "      <td>1.212302</td>\n",
       "    </tr>\n",
       "    <tr>\n",
       "      <th>216</th>\n",
       "      <td>(ArtBks, YouthBks)</td>\n",
       "      <td>(GeogBks)</td>\n",
       "      <td>0.1010</td>\n",
       "      <td>0.2760</td>\n",
       "      <td>0.0650</td>\n",
       "      <td>0.643564</td>\n",
       "      <td>2.331755</td>\n",
       "      <td>0.037124</td>\n",
       "      <td>2.031222</td>\n",
       "    </tr>\n",
       "    <tr>\n",
       "      <th>62</th>\n",
       "      <td>(CookBks)</td>\n",
       "      <td>(ItalCook)</td>\n",
       "      <td>0.4310</td>\n",
       "      <td>0.1135</td>\n",
       "      <td>0.1135</td>\n",
       "      <td>0.263341</td>\n",
       "      <td>2.320186</td>\n",
       "      <td>0.064582</td>\n",
       "      <td>1.203406</td>\n",
       "    </tr>\n",
       "  </tbody>\n",
       "</table>\n",
       "</div>"
      ],
      "text/plain": [
       "             antecedents           consequents  ...  leverage  conviction\n",
       "235  (CookBks, YouthBks)            (ItalCook)  ...  0.040613    1.394301\n",
       "279           (ItalCook)     (CookBks, ArtBks)  ...  0.037545    1.658693\n",
       "220   (GeogBks, CookBks)            (ItalCook)  ...  0.042151    1.328025\n",
       "159           (ItalCook)   (ChildBks, CookBks)  ...  0.055944    2.962947\n",
       "242  (DoItYBks, CookBks)            (ItalCook)  ...  0.037219    1.288517\n",
       "293           (ItalCook)   (ChildBks, GeogBks)  ...  0.030367    1.497828\n",
       "170             (RefBks)  (ChildBks, YouthBks)  ...  0.047608    1.362034\n",
       "260             (RefBks)  (DoItYBks, YouthBks)  ...  0.033225    1.212302\n",
       "216   (ArtBks, YouthBks)             (GeogBks)  ...  0.037124    2.031222\n",
       "62             (CookBks)            (ItalCook)  ...  0.064582    1.203406\n",
       "\n",
       "[10 rows x 9 columns]"
      ]
     },
     "execution_count": 41,
     "metadata": {},
     "output_type": "execute_result"
    }
   ],
   "source": [
    "rules_no_redudancy.sort_values('lift',ascending=False).head(10)"
   ]
  },
  {
   "cell_type": "markdown",
   "metadata": {},
   "source": [
    "#### From above rules if we observe top 5 rules ItlaCook is going hand in hand with Cookbks. May be we comeup with rules like below\n",
    "#### A discount on \"ItalCook\" on purchase of combos[(CookBks, YouthBks),(CookBks, ArtBks),(GeogBks, CookBks),(ChildBks, CookBks),(DoItYBks, CookBks)]"
   ]
  },
  {
   "cell_type": "code",
   "execution_count": 42,
   "metadata": {},
   "outputs": [
    {
     "name": "stderr",
     "output_type": "stream",
     "text": [
      "C:\\Users\\ABHAY\\Anaconda3\\lib\\site-packages\\ipykernel_launcher.py:1: FutureWarning: Method .as_matrix will be removed in a future version. Use .values instead.\n",
      "  \"\"\"Entry point for launching an IPython kernel.\n",
      "C:\\Users\\ABHAY\\Anaconda3\\lib\\site-packages\\ipykernel_launcher.py:2: FutureWarning: Method .as_matrix will be removed in a future version. Use .values instead.\n",
      "  \n"
     ]
    }
   ],
   "source": [
    "support=rules.as_matrix(columns=['support']);\n",
    "confidence=rules.as_matrix(columns=['confidence']);"
   ]
  },
  {
   "cell_type": "code",
   "execution_count": 43,
   "metadata": {},
   "outputs": [
    {
     "data": {
      "image/png": "[encoded data removed]",
      "text/plain": [
       "<Figure size 432x288 with 1 Axes>"
      ]
     },
     "metadata": {
      "needs_background": "light"
     },
     "output_type": "display_data"
    }
   ],
   "source": [
    "plt.scatter(support, confidence,   alpha=0.5, marker=\"*\")\n",
    "plt.xlabel('support')\n",
    "plt.ylabel('confidence');"
   ]
  },
  {
   "cell_type": "code",
   "execution_count": null,
   "metadata": {},
   "outputs": [],
   "source": []
  }
 ],
 "metadata": {
  "kernelspec": {
   "display_name": "Python 3",
   "language": "python",
   "name": "python3"
  },
  "language_info": {
   "codemirror_mode": {
    "name": "ipython",
    "version": 3
   },
   "file_extension": ".py",
   "mimetype": "text/x-python",
   "name": "python",
   "nbconvert_exporter": "python",
   "pygments_lexer": "ipython3",
   "version": "3.7.3"
  }
 },
 "nbformat": 4,
 "nbformat_minor": 2
}
